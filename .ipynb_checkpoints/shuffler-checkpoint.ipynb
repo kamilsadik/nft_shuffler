{
 "cells": [
  {
   "cell_type": "code",
   "execution_count": 5,
   "metadata": {},
   "outputs": [],
   "source": [
    "import numpy as np\n",
    "import pandas as pd\n",
    "import json\n",
    "import os\n",
    "import random\n",
    "import shutil"
   ]
  },
  {
   "cell_type": "code",
   "execution_count": 6,
   "metadata": {},
   "outputs": [],
   "source": [
    "'''\n",
    "Fill in this section as appropriate for your collection.\n",
    "Currently, example values are populated.\n",
    "\n",
    "No changes to other cells are necessary.\n",
    "'''\n",
    "\n",
    "# Number of images in collection\n",
    "NUM_FILES = 500\n",
    "# Directory from which to pull images/metadata\n",
    "SRC_DIREC = \"output\"\n",
    "# Directory to which to write shuffled images/metadata\n",
    "DEST_DIREC = \"shuffled_assets\"\n",
    "# Name of collection\n",
    "COLLECTION_NAME = \"Nova\"\n",
    "# Pre-select image indices that you want to come out first, if any\n",
    "pre_selected_src_indices = [25, 45, 54]"
   ]
  },
  {
   "cell_type": "code",
   "execution_count": 7,
   "metadata": {},
   "outputs": [],
   "source": [
    "# Generate the list of source indices, skipping pre-selected indices\n",
    "src_indices = [n for n in range(0,NUM_FILES) if n not in pre_selected_src_indices]\n",
    "# Append pre_selected_src_indices to the beginning of src_indices\n",
    "src_indices = pre_selected_src_indices + src_indices\n",
    "\n",
    "# Generate list of destination indices\n",
    "pre_selected_dest_indices = [n for n in range(0, len(pre_selected_src_indices))]\n",
    "# Generate the list of source indices, skipping pre-selected indices\n",
    "dest_indices = [n for n in range(len(pre_selected_src_indices),NUM_FILES)]\n",
    "# Shuffle the destination indices\n",
    "random.shuffle(dest_indices)\n",
    "# Append pre_selected_dest_indices to the beginning of dest_indices\n",
    "dest_indices = pre_selected_dest_indices + dest_indices"
   ]
  },
  {
   "cell_type": "code",
   "execution_count": 8,
   "metadata": {},
   "outputs": [],
   "source": [
    "for index in range(0, NUM_FILES):\n",
    "    \n",
    "    # Grab the source image file\n",
    "    src_img = f\"{SRC_DIREC}/{src_indices[index]}.png\"\n",
    "    # Identify what the image should be saved as\n",
    "    dest_img = f\"{DEST_DIREC}/{dest_indices[index]}.png\"\n",
    "    # Copy the image file over\n",
    "    shutil.copy(src_img, dest_img)\n",
    "    \n",
    "    # Grab the source json file\n",
    "    src_json = f\"{SRC_DIREC}/{src_indices[index]}.json\"\n",
    "    # Identify what the json file should be saved as\n",
    "    dest_json = f\"{DEST_DIREC}/{dest_indices[index]}.json\"\n",
    "    # Copy the json file over\n",
    "    shutil.copy(src_json, dest_json)\n",
    "    \n",
    "    # Open the copied over json file\n",
    "    file = open(f\"{DEST_DIREC}/{dest_indices[index]}.json\", \"r\")\n",
    "    json_object = json.load(file)\n",
    "    file.close()\n",
    "    \n",
    "    # Update the json file in line with the new index\n",
    "    json_object[\"name\"] = f\"{COLLECTION_NAME} #{dest_indices[index]}\"\n",
    "    json_object[\"description\"] = f\"Piece #{dest_indices[index]} in the {COLLECTION_NAME} collection\"\n",
    "    json_object[\"image\"] = f\"{dest_indices[index]}.png\"\n",
    "    json_object[\"properties\"][\"files\"][0][\"uri\"] = f\"{dest_indices[index]}.png\"\n",
    "    \n",
    "    # Write to the json file with the updated values\n",
    "    file = open(f\"{DEST_DIREC}/{dest_indices[index]}.json\", \"w\")\n",
    "    json.dump(json_object, file, ensure_ascii=False, indent=4)\n",
    "    file.close()"
   ]
  },
  {
   "cell_type": "code",
   "execution_count": null,
   "metadata": {},
   "outputs": [],
   "source": []
  },
  {
   "cell_type": "code",
   "execution_count": null,
   "metadata": {},
   "outputs": [],
   "source": []
  },
  {
   "cell_type": "code",
   "execution_count": 56,
   "metadata": {},
   "outputs": [],
   "source": []
  },
  {
   "cell_type": "code",
   "execution_count": null,
   "metadata": {},
   "outputs": [],
   "source": []
  }
 ],
 "metadata": {
  "kernelspec": {
   "display_name": "Python 3",
   "language": "python",
   "name": "python3"
  },
  "language_info": {
   "codemirror_mode": {
    "name": "ipython",
    "version": 3
   },
   "file_extension": ".py",
   "mimetype": "text/x-python",
   "name": "python",
   "nbconvert_exporter": "python",
   "pygments_lexer": "ipython3",
   "version": "3.8.5"
  }
 },
 "nbformat": 4,
 "nbformat_minor": 4
}
